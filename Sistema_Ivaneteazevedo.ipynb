{
 "cells": [
  {
   "cell_type": "markdown",
   "metadata": {},
   "source": [
    "<strong>Instituto Federal de Educação Tecnológica de Minas Gerais - Campus Ouro Preto</strong>\n",
    "<strong>Especialização em Inteligência Artificial</strong>\n",
    "<strong>Recuperação da Informação</strong>\n",
    "\n",
    "\n",
    "\n",
    "Aluno: Ivanete Fátima de Azevedo\n",
    "\n",
    "\n"
   ]
  },
  {
   "cell_type": "code",
   "execution_count": 1,
   "metadata": {},
   "outputs": [
    {
     "name": "stdout",
     "output_type": "stream",
     "text": [
      "Requirement already satisfied: beautifulsoup4 in c:\\users\\nethy azevedo\\appdata\\local\\packages\\pythonsoftwarefoundation.python.3.11_qbz5n2kfra8p0\\localcache\\local-packages\\python311\\site-packages (4.12.3)\n",
      "Requirement already satisfied: soupsieve>1.2 in c:\\users\\nethy azevedo\\appdata\\local\\packages\\pythonsoftwarefoundation.python.3.11_qbz5n2kfra8p0\\localcache\\local-packages\\python311\\site-packages (from beautifulsoup4) (2.5)\n",
      "Note: you may need to restart the kernel to use updated packages.\n"
     ]
    }
   ],
   "source": [
    "pip install beautifulsoup4"
   ]
  },
  {
   "cell_type": "code",
   "execution_count": 18,
   "metadata": {},
   "outputs": [
    {
     "name": "stdout",
     "output_type": "stream",
     "text": [
      "Collecting nltk\n",
      "  Downloading nltk-3.8.1-py3-none-any.whl.metadata (2.8 kB)\n",
      "Collecting click (from nltk)\n",
      "  Downloading click-8.1.7-py3-none-any.whl.metadata (3.0 kB)\n",
      "Collecting joblib (from nltk)\n",
      "  Downloading joblib-1.3.2-py3-none-any.whl.metadata (5.4 kB)\n",
      "Collecting regex>=2021.8.3 (from nltk)\n",
      "  Downloading regex-2023.12.25-cp311-cp311-win_amd64.whl.metadata (41 kB)\n",
      "     ---------------------------------------- 0.0/42.0 kB ? eta -:--:--\n",
      "     --------- ------------------------------ 10.2/42.0 kB ? eta -:--:--\n",
      "     --------------------------- ---------- 30.7/42.0 kB 435.7 kB/s eta 0:00:01\n",
      "     -------------------------------------- 42.0/42.0 kB 406.8 kB/s eta 0:00:00\n",
      "Collecting tqdm (from nltk)\n",
      "  Downloading tqdm-4.66.2-py3-none-any.whl.metadata (57 kB)\n",
      "     ---------------------------------------- 0.0/57.6 kB ? eta -:--:--\n",
      "     ----------------------------------- ---- 51.2/57.6 kB 1.3 MB/s eta 0:00:01\n",
      "     ---------------------------------------- 57.6/57.6 kB 1.0 MB/s eta 0:00:00\n",
      "Requirement already satisfied: colorama in c:\\users\\nethy azevedo\\appdata\\local\\packages\\pythonsoftwarefoundation.python.3.11_qbz5n2kfra8p0\\localcache\\local-packages\\python311\\site-packages (from click->nltk) (0.4.6)\n",
      "Downloading nltk-3.8.1-py3-none-any.whl (1.5 MB)\n",
      "   ---------------------------------------- 0.0/1.5 MB ? eta -:--:--\n",
      "   -- ------------------------------------- 0.1/1.5 MB 5.1 MB/s eta 0:00:01\n",
      "   ----- ---------------------------------- 0.2/1.5 MB 2.7 MB/s eta 0:00:01\n",
      "   --------- ------------------------------ 0.4/1.5 MB 2.8 MB/s eta 0:00:01\n",
      "   ------------ --------------------------- 0.5/1.5 MB 2.6 MB/s eta 0:00:01\n",
      "   ------------- -------------------------- 0.5/1.5 MB 2.3 MB/s eta 0:00:01\n",
      "   ---------------- ----------------------- 0.6/1.5 MB 2.3 MB/s eta 0:00:01\n",
      "   -------------------- ------------------- 0.8/1.5 MB 2.4 MB/s eta 0:00:01\n",
      "   ----------------------- ---------------- 0.9/1.5 MB 2.4 MB/s eta 0:00:01\n",
      "   -------------------------- ------------- 1.0/1.5 MB 2.3 MB/s eta 0:00:01\n",
      "   ----------------------------- ---------- 1.1/1.5 MB 2.3 MB/s eta 0:00:01\n",
      "   ------------------------------- -------- 1.2/1.5 MB 2.3 MB/s eta 0:00:01\n",
      "   --------------------------------- ------ 1.2/1.5 MB 2.1 MB/s eta 0:00:01\n",
      "   ---------------------------------- ----- 1.3/1.5 MB 2.1 MB/s eta 0:00:01\n",
      "   ----------------------------------- ---- 1.4/1.5 MB 2.1 MB/s eta 0:00:01\n",
      "   ------------------------------------ --- 1.4/1.5 MB 2.0 MB/s eta 0:00:01\n",
      "   ---------------------------------------- 1.5/1.5 MB 2.0 MB/s eta 0:00:00\n",
      "Downloading regex-2023.12.25-cp311-cp311-win_amd64.whl (269 kB)\n",
      "   ---------------------------------------- 0.0/269.5 kB ? eta -:--:--\n",
      "   --------- ------------------------------ 61.4/269.5 kB 1.7 MB/s eta 0:00:01\n",
      "   ------------------ --------------------- 122.9/269.5 kB 2.4 MB/s eta 0:00:01\n",
      "   ------------------ --------------------- 122.9/269.5 kB 2.4 MB/s eta 0:00:01\n",
      "   ------------------ --------------------- 122.9/269.5 kB 2.4 MB/s eta 0:00:01\n",
      "   ------------------ --------------------- 122.9/269.5 kB 2.4 MB/s eta 0:00:01\n",
      "   ------------------ --------------------- 122.9/269.5 kB 2.4 MB/s eta 0:00:01\n",
      "   ------------------ --------------------- 122.9/269.5 kB 2.4 MB/s eta 0:00:01\n",
      "   ------------------ --------------------- 122.9/269.5 kB 2.4 MB/s eta 0:00:01\n",
      "   ------------------ --------------------- 122.9/269.5 kB 2.4 MB/s eta 0:00:01\n",
      "   ------------------------ ------------- 174.1/269.5 kB 350.1 kB/s eta 0:00:01\n",
      "   ---------------------------- --------- 204.8/269.5 kB 389.1 kB/s eta 0:00:01\n",
      "   -------------------------------------  266.2/269.5 kB 455.5 kB/s eta 0:00:01\n",
      "   -------------------------------------- 269.5/269.5 kB 425.7 kB/s eta 0:00:00\n",
      "Downloading click-8.1.7-py3-none-any.whl (97 kB)\n",
      "   ---------------------------------------- 0.0/97.9 kB ? eta -:--:--\n",
      "   ---------------------------------------- 97.9/97.9 kB 1.9 MB/s eta 0:00:00\n",
      "Downloading joblib-1.3.2-py3-none-any.whl (302 kB)\n",
      "   ---------------------------------------- 0.0/302.2 kB ? eta -:--:--\n",
      "   ---------------- ----------------------- 122.9/302.2 kB 2.4 MB/s eta 0:00:01\n",
      "   ------------------------------- -------- 235.5/302.2 kB 2.4 MB/s eta 0:00:01\n",
      "   ------------------------------- -------- 235.5/302.2 kB 2.4 MB/s eta 0:00:01\n",
      "   ---------------------------------------- 302.2/302.2 kB 1.6 MB/s eta 0:00:00\n",
      "Downloading tqdm-4.66.2-py3-none-any.whl (78 kB)\n",
      "   ---------------------------------------- 0.0/78.3 kB ? eta -:--:--\n",
      "   ------------------------------------ --- 71.7/78.3 kB 3.8 MB/s eta 0:00:01\n",
      "   ---------------------------------------- 78.3/78.3 kB 2.2 MB/s eta 0:00:00\n",
      "Installing collected packages: tqdm, regex, joblib, click, nltk\n",
      "Successfully installed click-8.1.7 joblib-1.3.2 nltk-3.8.1 regex-2023.12.25 tqdm-4.66.2\n",
      "Note: you may need to restart the kernel to use updated packages.\n"
     ]
    }
   ],
   "source": [
    "pip install nltk"
   ]
  },
  {
   "cell_type": "code",
   "execution_count": 33,
   "metadata": {},
   "outputs": [
    {
     "name": "stdout",
     "output_type": "stream",
     "text": [
      "Nenhum resultado encontrado para o termo de busca.\n"
     ]
    }
   ],
   "source": [
    "from Coletor import Coletor\n",
    "from indexador import Indexador\n",
    "from Buscador import Buscador\n",
    "\n",
    "if __name__ == \"__main__\":\n",
    "    urls = [\"https://www.omelete.com.br\"]\n",
    "    coletor = Coletor()\n",
    "    for url in urls:\n",
    "        coletor.coletar_urls(url, profundidade=2)\n",
    "    coletor.salvar_dados_json('dados_coletados.json')\n",
    "\n",
    "    indexador = Indexador(coletor)\n",
    "    indexador.inverted_index_generator()\n",
    "\n",
    "    buscador = Buscador(indexador)\n",
    "    resultados = buscador.buscar(\"Homem de ferro\")\n",
    "    print(resultados)"
   ]
  }
 ],
 "metadata": {
  "kernelspec": {
   "display_name": "Python 3",
   "language": "python",
   "name": "python3"
  },
  "language_info": {
   "codemirror_mode": {
    "name": "ipython",
    "version": 3
   },
   "file_extension": ".py",
   "mimetype": "text/x-python",
   "name": "python",
   "nbconvert_exporter": "python",
   "pygments_lexer": "ipython3",
   "version": "3.11.8"
  }
 },
 "nbformat": 4,
 "nbformat_minor": 2
}
